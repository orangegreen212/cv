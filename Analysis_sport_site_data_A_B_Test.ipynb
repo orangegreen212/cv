{
  "metadata": {
    "kernelspec": {
      "language": "python",
      "display_name": "Python 3",
      "name": "python3"
    },
    "language_info": {
      "name": "python",
      "version": "3.10.13",
      "mimetype": "text/x-python",
      "codemirror_mode": {
        "name": "ipython",
        "version": 3
      },
      "pygments_lexer": "ipython3",
      "nbconvert_exporter": "python",
      "file_extension": ".py"
    },
    "kaggle": {
      "accelerator": "none",
      "dataSources": [
        {
          "sourceId": 9147009,
          "sourceType": "datasetVersion",
          "datasetId": 5519809
        }
      ],
      "dockerImageVersionId": 30746,
      "isInternetEnabled": true,
      "language": "python",
      "sourceType": "notebook",
      "isGpuEnabled": false
    },
    "colab": {
      "name": "Analysis sport site data A/B Test",
      "provenance": [],
      "include_colab_link": true
    }
  },
  "nbformat_minor": 0,
  "nbformat": 4,
  "cells": [
    {
      "cell_type": "markdown",
      "metadata": {
        "id": "view-in-github",
        "colab_type": "text"
      },
      "source": [
        "<a href=\"https://colab.research.google.com/github/orangegreen212/cv/blob/main/Analysis_sport_site_data_A_B_Test.ipynb\" target=\"_parent\"><img src=\"https://colab.research.google.com/assets/colab-badge.svg\" alt=\"Open In Colab\"/></a>"
      ]
    },
    {
      "cell_type": "code",
      "source": [
        "\n",
        "import numpy as np\n",
        "import pandas as pd\n",
        "import matplotlib.pyplot as plt\n",
        "import seaborn as sns\n",
        "import pylab\n",
        "import scipy.stats as stats\n",
        "import statsmodels.stats.api as sms\n",
        "from math import ceil"
      ],
      "metadata": {
        "_uuid": "8f2839f25d086af736a60e9eeb907d3b93b6e0e5",
        "_cell_guid": "b1076dfc-b9ad-4769-8c92-a6c4dae69d19",
        "execution": {
          "iopub.status.busy": "2025-02-15T12:54:38.404795Z",
          "iopub.execute_input": "2025-02-15T12:54:38.405093Z",
          "iopub.status.idle": "2025-02-15T12:54:42.087211Z",
          "shell.execute_reply.started": "2025-02-15T12:54:38.405064Z",
          "shell.execute_reply": "2025-02-15T12:54:42.08597Z"
        },
        "trusted": true,
        "id": "P7zmu8aozEHj"
      },
      "outputs": [],
      "execution_count": null
    },
    {
      "cell_type": "markdown",
      "source": [
        "# Uploading and Cleanining Data"
      ],
      "metadata": {
        "id": "lCIhoa5VzEHm"
      }
    },
    {
      "cell_type": "code",
      "source": [
        "df_1 = pd.read_csv('/kaggle/input/sport-site-data/sport_data_1.csv')\n",
        "df_2 = pd.read_csv('/kaggle/input/sport-site-data/sport_data_2.csv')\n",
        "df_1.info()\n",
        "df_1.head()\n"
      ],
      "metadata": {
        "execution": {
          "iopub.status.busy": "2025-02-15T12:54:42.088922Z",
          "iopub.execute_input": "2025-02-15T12:54:42.089592Z",
          "iopub.status.idle": "2025-02-15T12:54:42.202106Z",
          "shell.execute_reply.started": "2025-02-15T12:54:42.089553Z",
          "shell.execute_reply": "2025-02-15T12:54:42.201003Z"
        },
        "trusted": true,
        "id": "7Sw7SnJezEHp"
      },
      "outputs": [],
      "execution_count": null
    },
    {
      "cell_type": "code",
      "source": [
        "\n",
        "df_2.info()\n",
        "df_2.head()"
      ],
      "metadata": {
        "execution": {
          "iopub.status.busy": "2025-02-15T12:54:42.204391Z",
          "iopub.execute_input": "2025-02-15T12:54:42.205253Z",
          "iopub.status.idle": "2025-02-15T12:54:42.230676Z",
          "shell.execute_reply.started": "2025-02-15T12:54:42.205212Z",
          "shell.execute_reply": "2025-02-15T12:54:42.229711Z"
        },
        "trusted": true,
        "id": "By7Oq8VSzEHs"
      },
      "outputs": [],
      "execution_count": null
    },
    {
      "cell_type": "markdown",
      "source": [
        "Description for each column:\n",
        "\n",
        "   **Date:** The date when the data was recorded.\n",
        "   \n",
        "   **Page Views:** The total number of pages viewed by visitor\n",
        "   \n",
        "   **Unique Visitors:** The number of distinct individuals visiting the site\n",
        "   \n",
        "   **Bounce Rate:** The percentage of visitors who leave the site after viewing only one page.\n",
        "   \n",
        "   **Avg Session Duration (s):** The average length of time visitors spend on the site in seconds.\n",
        "   \n",
        "   **Conversion Rate (%):** The percentage of visitors who complete a desired action or goal (e.g., make a purchase).\n",
        "   \n",
        "   **Traffic Source:** The origin of the website traffic (e.g., search engines, social media, direct).\n",
        "   \n",
        "   **Revenue:** The total income generated from visitors during the period."
      ],
      "metadata": {
        "id": "QbusquS9zEHu"
      }
    },
    {
      "cell_type": "code",
      "source": [
        "# Convert the 'Date' column to datetime format\n",
        "df_1['Date'] = pd.to_datetime(df_1['Date'])\n",
        "\n",
        "# Truncate the date to the format 'yyyy-mm-dd'\n",
        "df_1['Date'] = df_1['Date'].dt.strftime('%Y-%m-%d')\n",
        "\n",
        "print(df_1.head())\n"
      ],
      "metadata": {
        "execution": {
          "iopub.status.busy": "2025-02-15T12:54:42.231781Z",
          "iopub.execute_input": "2025-02-15T12:54:42.232165Z",
          "iopub.status.idle": "2025-02-15T12:54:42.253179Z",
          "shell.execute_reply.started": "2025-02-15T12:54:42.232107Z",
          "shell.execute_reply": "2025-02-15T12:54:42.252098Z"
        },
        "trusted": true,
        "id": "f0SL0N7-zEHx"
      },
      "outputs": [],
      "execution_count": null
    },
    {
      "cell_type": "code",
      "source": [
        "# Convert the 'Date' column to datetime format\n",
        "\n",
        "df_2['Date'] = pd.to_datetime(df_2['Date'])\n",
        "\n",
        "# Truncate the date to the format 'yyyy-mm-dd'\n",
        "df_2['Date'] = df_2['Date'].dt.strftime('%Y-%m-%d')\n",
        "\n",
        "print(df_2.head())"
      ],
      "metadata": {
        "execution": {
          "iopub.status.busy": "2025-02-15T12:54:42.254371Z",
          "iopub.execute_input": "2025-02-15T12:54:42.254762Z",
          "iopub.status.idle": "2025-02-15T12:54:42.2725Z",
          "shell.execute_reply.started": "2025-02-15T12:54:42.254725Z",
          "shell.execute_reply": "2025-02-15T12:54:42.271105Z"
        },
        "trusted": true,
        "id": "2CnD7EUvzEH0"
      },
      "outputs": [],
      "execution_count": null
    },
    {
      "cell_type": "code",
      "source": [
        "import pandas as pd\n",
        "import matplotlib.pyplot as plt\n",
        "import seaborn as sns\n",
        "\n",
        "# Assuming df_2 is already loaded\n",
        "# Convert 'Date' to datetime\n",
        "df_2['Date'] = pd.to_datetime(df_2['Date'])\n",
        "\n",
        "# Set the date as the index\n",
        "df_2.set_index('Date', inplace=True)\n",
        "\n",
        "# Resample data by week and aggregate using sum or mean as appropriate\n",
        "weekly_data = df_2.resample('W').agg({\n",
        "    'Page Views': 'sum',\n",
        "    'Unique Visitors': 'sum',\n",
        "    'Bounce Rate': 'mean',\n",
        "    'Avg Session Duration (s)': 'mean',\n",
        "    'Conversion Rate (%)': 'mean',\n",
        "    'Revenue': 'sum'\n",
        "})\n",
        "\n",
        "# Plotting Bar Charts\n",
        "plt.figure(figsize=(14, 10))\n",
        "\n",
        "# Page Views and Unique Visitors\n",
        "plt.subplot(2, 2, 1)\n",
        "weekly_data[['Page Views', 'Unique Visitors']].plot(kind='bar', ax=plt.gca(), color=['#FF9999','#66B2FF'])\n",
        "plt.title('Weekly Page Views and Unique Visitors')\n",
        "plt.xlabel('Week')\n",
        "plt.ylabel('Count')\n",
        "plt.legend(title='Metrics')\n",
        "\n",
        "# Bounce Rate and Conversion Rate\n",
        "plt.subplot(2, 2, 2)\n",
        "weekly_data[['Bounce Rate', 'Conversion Rate (%)']].plot(kind='bar', ax=plt.gca(), color=['#99FF99','#FFCC99'])\n",
        "plt.title('Weekly Bounce Rate and Conversion Rate')\n",
        "plt.xlabel('Week')\n",
        "plt.ylabel('Percentage')\n",
        "plt.legend(title='Metrics')\n",
        "\n",
        "# Avg Session Duration\n",
        "plt.subplot(2, 2, 3)\n",
        "weekly_data[['Avg Session Duration (s)']].plot(kind='bar', ax=plt.gca(), color=['#CCFF99'])\n",
        "plt.title('Weekly Average Session Duration')\n",
        "plt.xlabel('Week')\n",
        "plt.ylabel('Duration (s)')\n",
        "plt.legend(title='Metrics')\n",
        "\n",
        "# Revenue\n",
        "plt.subplot(2, 2, 4)\n",
        "weekly_data[['Revenue']].plot(kind='bar', ax=plt.gca(), color=['#FF6666'])\n",
        "plt.title('Weekly Revenue')\n",
        "plt.xlabel('Week')\n",
        "plt.ylabel('Revenue')\n",
        "plt.legend(title='Metrics')\n",
        "\n",
        "plt.tight_layout()\n",
        "plt.show()\n",
        "\n",
        "\n",
        "# Correlation Matrix (excluding non-numeric columns)\n",
        "numeric_df = df_2.select_dtypes(include=['float64', 'int64'])\n",
        "corr_matrix = numeric_df.corr()\n",
        "sns.heatmap(corr_matrix, annot=True, cmap='coolwarm')\n",
        "plt.title('Correlation Matrix')\n",
        "plt.show()\n"
      ],
      "metadata": {
        "trusted": true,
        "execution": {
          "iopub.status.busy": "2025-02-15T13:24:46.95544Z",
          "iopub.execute_input": "2025-02-15T13:24:46.955843Z",
          "iopub.status.idle": "2025-02-15T13:24:48.408443Z",
          "shell.execute_reply.started": "2025-02-15T13:24:46.955815Z",
          "shell.execute_reply": "2025-02-15T13:24:48.407363Z"
        },
        "id": "RI5HWwIVzEH2"
      },
      "outputs": [],
      "execution_count": null
    },
    {
      "cell_type": "markdown",
      "source": [
        "# Perform A/B testing"
      ],
      "metadata": {
        "id": "QHsigYCFzEH6"
      }
    },
    {
      "cell_type": "markdown",
      "source": [
        "\n",
        "\n",
        "    Baseline conversion rate :  5%\n",
        "\n",
        "    Need minimum detectable effect: 5%\n",
        "\n",
        "    Statistical power: 90%\n",
        "\n",
        "    Significance level: 5%\n"
      ],
      "metadata": {
        "id": "iP7KUdGSzEH7"
      }
    },
    {
      "cell_type": "markdown",
      "source": [
        "Define Required sample size from our DataFrames"
      ],
      "metadata": {
        "id": "SWtOsvHizEH7"
      }
    },
    {
      "cell_type": "code",
      "source": [
        "# Given parameters\n",
        "baseline_conversion_rate = 0.03\n",
        "minimum_detectable_effect = 0.05\n",
        "\n",
        "power = 0.90\n",
        "alpha = 0.05\n",
        "\n",
        "# Calculate the effect size\n",
        "effect_size = sms.proportion_effectsize(baseline_conversion_rate, baseline_conversion_rate + minimum_detectable_effect)\n",
        "\n",
        "# Calculate the required sample size\n",
        "required_n = sms.NormalIndPower().solve_power(effect_size, power=power, alpha=alpha, ratio=1)\n",
        "required_n = int(np.ceil(required_n))  # Round up to the nearest integer\n",
        "\n",
        "print(\"Required sample size:\", required_n)\n",
        "\n"
      ],
      "metadata": {
        "execution": {
          "iopub.status.busy": "2024-08-14T14:44:23.935123Z",
          "iopub.execute_input": "2024-08-14T14:44:23.93556Z",
          "iopub.status.idle": "2024-08-14T14:44:23.960531Z",
          "shell.execute_reply.started": "2024-08-14T14:44:23.935524Z",
          "shell.execute_reply": "2024-08-14T14:44:23.959342Z"
        },
        "trusted": true,
        "id": "ICQdqYTczEH8"
      },
      "outputs": [],
      "execution_count": null
    },
    {
      "cell_type": "code",
      "source": [
        "# Get a random sample without replacement\n",
        "sample_1 = df_1.sample(n=required_n, replace=False)\n",
        "\n",
        "print(sample_1)\n"
      ],
      "metadata": {
        "execution": {
          "iopub.status.busy": "2024-08-14T14:44:46.106603Z",
          "iopub.execute_input": "2024-08-14T14:44:46.107733Z",
          "iopub.status.idle": "2024-08-14T14:44:46.130239Z",
          "shell.execute_reply.started": "2024-08-14T14:44:46.107687Z",
          "shell.execute_reply": "2024-08-14T14:44:46.128809Z"
        },
        "trusted": true,
        "id": "SChu4zuKzEH9"
      },
      "outputs": [],
      "execution_count": null
    },
    {
      "cell_type": "code",
      "source": [
        "# Get a random sample without replacement\n",
        "sample_2 = df_2.sample(n=required_n, replace=False)\n",
        "\n",
        "print(sample_2)"
      ],
      "metadata": {
        "execution": {
          "iopub.status.busy": "2024-08-14T14:44:48.989696Z",
          "iopub.execute_input": "2024-08-14T14:44:48.990737Z",
          "iopub.status.idle": "2024-08-14T14:44:49.005032Z",
          "shell.execute_reply.started": "2024-08-14T14:44:48.990699Z",
          "shell.execute_reply": "2024-08-14T14:44:49.003131Z"
        },
        "trusted": true,
        "id": "pIFyqdrHzEH_"
      },
      "outputs": [],
      "execution_count": null
    },
    {
      "cell_type": "markdown",
      "source": [
        "# Calculate Average Conversion Rate in original DataFrames and Samples DataFrames"
      ],
      "metadata": {
        "id": "K23-rDgLzEH_"
      }
    },
    {
      "cell_type": "markdown",
      "source": [
        "Calculation Average Conversion Rate in original DataFrames"
      ],
      "metadata": {
        "id": "Qdu3CklAzEIA"
      }
    },
    {
      "cell_type": "code",
      "source": [
        "average_conversion_rate = df_1['Conversion Rate (%)'].mean()\n",
        "print(\"Average Conversion Rate Sport 1:\", average_conversion_rate)\n",
        "average_conversion_rate = df_2['Conversion Rate (%)'].mean()\n",
        "print(\"Average Conversion Rate Sport 2:\", average_conversion_rate)"
      ],
      "metadata": {
        "execution": {
          "iopub.status.busy": "2024-08-14T14:44:53.862211Z",
          "iopub.execute_input": "2024-08-14T14:44:53.863464Z",
          "iopub.status.idle": "2024-08-14T14:44:53.870699Z",
          "shell.execute_reply.started": "2024-08-14T14:44:53.863418Z",
          "shell.execute_reply": "2024-08-14T14:44:53.869094Z"
        },
        "trusted": true,
        "id": "4eTTX0lIzEIA"
      },
      "outputs": [],
      "execution_count": null
    },
    {
      "cell_type": "markdown",
      "source": [
        "Calculation Samples DataFrames"
      ],
      "metadata": {
        "id": "z74Q1VW_zEIB"
      }
    },
    {
      "cell_type": "code",
      "source": [
        "conversion_rate_sample_1 = sample_1['Conversion Rate (%)'].mean()\n",
        "print(\"Average Conversion Rate Sport Sample 1:\", conversion_rate_sample_1)\n",
        "conversion_rate_sample_2 = sample_2['Conversion Rate (%)'].mean()\n",
        "print(\"Average Conversion Rate Sport Sample 2:\", conversion_rate_sample_2)"
      ],
      "metadata": {
        "execution": {
          "iopub.status.busy": "2024-08-14T14:44:58.08367Z",
          "iopub.execute_input": "2024-08-14T14:44:58.084677Z",
          "iopub.status.idle": "2024-08-14T14:44:58.091446Z",
          "shell.execute_reply.started": "2024-08-14T14:44:58.084643Z",
          "shell.execute_reply": "2024-08-14T14:44:58.090243Z"
        },
        "trusted": true,
        "id": "ZFhJ5bQGzEIB"
      },
      "outputs": [],
      "execution_count": null
    },
    {
      "cell_type": "code",
      "source": [
        "data = {'Sample': ['Sample 1', 'Sample 2'], 'Conversion Rate': [conversion_rate_sample_1, conversion_rate_sample_2]}\n",
        "df = pd.DataFrame(data)\n",
        "\n",
        "# Create the bar chart\n",
        "plt.figure(figsize=(6, 5))\n",
        "sns.barplot(x='Sample', y='Conversion Rate', data=df)\n",
        "\n",
        "# Get bar positions (after creating the chart)\n",
        "bar_positions = plt.gca().get_xticks()  # Get x-axis positions of bars\n",
        "\n",
        "# Extract conversion rates from DataFrame\n",
        "conversion_rates = df['Conversion Rate']\n",
        "\n",
        "# Add annotations above each bar\n",
        "for pos, rate in zip(bar_positions, conversion_rates):\n",
        "    plt.annotate(str(rate),  # Text to display (conversion rate as string)\n",
        "                 xy=(pos, rate + 0.01),  # Position slightly above the bar\n",
        "                 ha='center',  # Horizontal alignment (center)\n",
        "                 va='bottom')  # Vertical alignment (bottom)\n",
        "\n",
        "# Customize the chart\n",
        "plt.title('Conversion Rate Comparison')\n",
        "plt.ylabel('Conversion Rate')\n",
        "plt.show()"
      ],
      "metadata": {
        "execution": {
          "iopub.status.busy": "2024-08-14T14:45:06.270708Z",
          "iopub.execute_input": "2024-08-14T14:45:06.271081Z",
          "iopub.status.idle": "2024-08-14T14:45:06.596666Z",
          "shell.execute_reply.started": "2024-08-14T14:45:06.271053Z",
          "shell.execute_reply": "2024-08-14T14:45:06.595394Z"
        },
        "trusted": true,
        "id": "E-PgJkDXzEID"
      },
      "outputs": [],
      "execution_count": null
    },
    {
      "cell_type": "markdown",
      "source": [
        "# Finding P-Value and check H0 and Ha hypothesis"
      ],
      "metadata": {
        "id": "-9-f7KQkzEID"
      }
    },
    {
      "cell_type": "markdown",
      "source": [
        "T-Test"
      ],
      "metadata": {
        "id": "dYES6y4PzEIE"
      }
    },
    {
      "cell_type": "code",
      "source": [
        "t_stat, p_value = stats.ttest_ind(df_1['Conversion Rate (%)'], df_2['Conversion Rate (%)'])\n",
        "\n",
        "# Print results\n",
        "if p_value < 0.05:\n",
        "    print(\"There are statistically significant differences between the mean values of the samples.\")\n",
        "else:\n",
        "    print(\"There are no statistically significant differences between the mean values of the samples.\")\n",
        "print(\"P-Value:\", p_value)\n"
      ],
      "metadata": {
        "execution": {
          "iopub.status.busy": "2024-08-14T14:45:10.653491Z",
          "iopub.execute_input": "2024-08-14T14:45:10.654531Z",
          "iopub.status.idle": "2024-08-14T14:45:10.667116Z",
          "shell.execute_reply.started": "2024-08-14T14:45:10.654492Z",
          "shell.execute_reply": "2024-08-14T14:45:10.665641Z"
        },
        "trusted": true,
        "id": "lNFrJREKzEIF"
      },
      "outputs": [],
      "execution_count": null
    },
    {
      "cell_type": "markdown",
      "source": [
        "Welch's t-test"
      ],
      "metadata": {
        "id": "lN2gsuiZzEIG"
      }
    },
    {
      "cell_type": "code",
      "source": [
        "# Obtain data\n",
        "CR_1 = df_1['Conversion Rate (%)']\n",
        "CR_2 = df_2['Conversion Rate (%)']\n",
        "\n",
        "# Check variance of samples\n",
        "var_CR_1 = np.var(CR_1, ddof=1)\n",
        "var_CR_2 = np.var(CR_2, ddof=1)\n",
        "print(\"Variance of sample 1:\", var_CR_1)\n",
        "print(\"Variance of sample 2:\", var_CR_2)\n",
        "\n",
        "# Perform t-test if variance is not zero\n",
        "if var_CR_1 > 0 and var_CR_2 > 0:\n",
        "    t_stat, p_value = stats.ttest_ind(CR_1, CR_2)\n",
        "\n",
        "    # Print results\n",
        "    if p_value < 0.05:\n",
        "        print(\"There are statistically significant differences between the mean values of the samples.\")\n",
        "    else:\n",
        "        print(\"There are no statistically significant differences between the mean values of the samples.\")\n",
        "\n",
        "    print(\"t-statistic:\", t_stat)\n",
        "    print(\"p-value:\", p_value)\n",
        "else:\n",
        "    print(\"One of the samples has zero variance, t-test is not possible.\")\n"
      ],
      "metadata": {
        "execution": {
          "iopub.status.busy": "2024-08-14T14:45:15.638548Z",
          "iopub.execute_input": "2024-08-14T14:45:15.638949Z",
          "iopub.status.idle": "2024-08-14T14:45:15.652478Z",
          "shell.execute_reply.started": "2024-08-14T14:45:15.638918Z",
          "shell.execute_reply": "2024-08-14T14:45:15.651155Z"
        },
        "trusted": true,
        "id": "iL8aVSmSzEIG"
      },
      "outputs": [],
      "execution_count": null
    },
    {
      "cell_type": "code",
      "source": [
        "# Obtain data\n",
        "BR_1 = df_1['Bounce Rate']\n",
        "BR_2 = df_2['Bounce Rate']\n",
        "\n",
        "\n",
        "# Check variance of samples\n",
        "var_BR_1 = np.var(BR_1, ddof=1)\n",
        "var_BR_2 = np.var(BR_2, ddof=1)\n",
        "print(\"Variance of sample 1:\", var_BR_1)\n",
        "print(\"Variance of sample 2:\", var_BR_2)\n",
        "\n",
        "# Perform t-test if variance is not zero\n",
        "if var_BR_1 > 0 and var_BR_2 > 0:\n",
        "    t_stat, p_value = stats.ttest_ind(BR_1, BR_2)\n",
        "\n",
        "    # Print results\n",
        "    if p_value < 0.05:\n",
        "        print(\"There are statistically significant differences between the mean values of the samples.\")\n",
        "    else:\n",
        "        print(\"There are no statistically significant differences between the mean values of the samples.\")\n",
        "\n",
        "    print(\"t-statistic:\", t_stat)\n",
        "    print(\"p-value:\", p_value)\n",
        "else:\n",
        "    print(\"One of the samples has zero variance, t-test is not possible.\")"
      ],
      "metadata": {
        "execution": {
          "iopub.status.busy": "2024-08-14T14:45:19.795055Z",
          "iopub.execute_input": "2024-08-14T14:45:19.795503Z",
          "iopub.status.idle": "2024-08-14T14:45:19.809228Z",
          "shell.execute_reply.started": "2024-08-14T14:45:19.795467Z",
          "shell.execute_reply": "2024-08-14T14:45:19.808016Z"
        },
        "trusted": true,
        "id": "izS421pXzEIH"
      },
      "outputs": [],
      "execution_count": null
    },
    {
      "cell_type": "markdown",
      "source": [
        "# Finding correlation"
      ],
      "metadata": {
        "id": "fNe9N4LNzEII"
      }
    },
    {
      "cell_type": "markdown",
      "source": [
        "Correlation between Conversion R (%) and Bounce Rate in the first sample"
      ],
      "metadata": {
        "id": "aRJtnioOzEII"
      }
    },
    {
      "cell_type": "code",
      "source": [
        "\n",
        "\n",
        "        # Create a DataFrame for correlation matrix\n",
        "        df_m = pd.DataFrame({\n",
        "            'Bounce Rate': BR_1,\n",
        "            'Conversion R (%)': CR_1\n",
        "        })\n",
        "\n",
        "        # Calculateate the correlation matrix\n",
        "        correlation_matrix = df_m.corr()\n",
        "        print(\"Correlation Matrix:\\n\", correlation_matrix)\n",
        "\n",
        "        # Plot the correlation matrix\n",
        "        plt.figure(figsize=(8, 6))\n",
        "        sns.heatmap(correlation_matrix, annot=True, cmap='coolwarm', vmin=-1, vmax=1)\n",
        "        plt.title('Correlation Matrix')\n",
        "        plt.show()\n",
        "\n"
      ],
      "metadata": {
        "execution": {
          "iopub.status.busy": "2024-08-14T14:45:24.786591Z",
          "iopub.execute_input": "2024-08-14T14:45:24.786982Z",
          "iopub.status.idle": "2024-08-14T14:45:25.139868Z",
          "shell.execute_reply.started": "2024-08-14T14:45:24.786944Z",
          "shell.execute_reply": "2024-08-14T14:45:25.138659Z"
        },
        "trusted": true,
        "id": "y5iwFk1GzEIJ"
      },
      "outputs": [],
      "execution_count": null
    },
    {
      "cell_type": "markdown",
      "source": [
        "There is no significant relationship between the bounce rate and the conversion rate in the first DataFrame. A slight negative correlation suggests that as the bounce rate increases, the conversion rate might decrease very slightly, but this relationship is too weak to be of practical significance."
      ],
      "metadata": {
        "id": "SFOH-RK0zEIJ"
      }
    },
    {
      "cell_type": "code",
      "source": [
        "        # Create a DataFrame for correlation matrix\n",
        "        df_m2 = pd.DataFrame({\n",
        "            'Bounce Rate': BR_2,\n",
        "            'Conversion Rate (%)': CR_2\n",
        "        })\n",
        "\n",
        "        # Calculate the correlation matrix\n",
        "        correlation_matrix = df_m2.corr()\n",
        "        print(\"Correlation Matrix:\\n\", correlation_matrix)\n",
        "\n",
        "        # Plot the correlation matrix\n",
        "        plt.figure(figsize=(8, 6))\n",
        "        sns.heatmap(correlation_matrix, annot=True, cmap='coolwarm', vmin=-1, vmax=1)\n",
        "        plt.title('Correlation Matrix')\n",
        "        plt.show()"
      ],
      "metadata": {
        "execution": {
          "iopub.status.busy": "2024-08-14T14:45:29.269832Z",
          "iopub.execute_input": "2024-08-14T14:45:29.27027Z",
          "iopub.status.idle": "2024-08-14T14:45:29.636546Z",
          "shell.execute_reply.started": "2024-08-14T14:45:29.270233Z",
          "shell.execute_reply": "2024-08-14T14:45:29.635405Z"
        },
        "trusted": true,
        "id": "w81w5fw7zEIK"
      },
      "outputs": [],
      "execution_count": null
    },
    {
      "cell_type": "markdown",
      "source": [
        "There is no significant relationship between the bounce rate and the conversion rate the Second DataFrame. The correlation is so close to zero that it suggests that changes in the bounce rate have an almost negligible effect on the conversion rate."
      ],
      "metadata": {
        "id": "cjq5C3kMzEIK"
      }
    },
    {
      "cell_type": "code",
      "source": [
        "        # Create a DataFrame for correlation matrix\n",
        "        PV_1= sample_1['Page Views']\n",
        "        df_v= pd.DataFrame({\n",
        "            'Bounce Rate': CR_1,\n",
        "            'Page Views': PV_1\n",
        "        })\n",
        "\n",
        "\n",
        "        # Calculate the correlation matrix\n",
        "        correlation_matrix = df_v.corr()\n",
        "        print(\"Correlation Matrix:\\n\", correlation_matrix)\n",
        "\n",
        "        # Plot the correlation matrix\n",
        "        plt.figure(figsize=(8, 6))\n",
        "        sns.heatmap(correlation_matrix, annot=True, cmap='coolwarm', vmin=-1, vmax=1)\n",
        "        plt.title('Correlation Matrix')\n",
        "        plt.show()\n",
        ""
      ],
      "metadata": {
        "execution": {
          "iopub.status.busy": "2024-08-14T14:45:32.857866Z",
          "iopub.execute_input": "2024-08-14T14:45:32.858753Z",
          "iopub.status.idle": "2024-08-14T14:45:33.207761Z",
          "shell.execute_reply.started": "2024-08-14T14:45:32.858715Z",
          "shell.execute_reply": "2024-08-14T14:45:33.206529Z"
        },
        "trusted": true,
        "id": "4fRSBtnFzEIK"
      },
      "outputs": [],
      "execution_count": null
    },
    {
      "cell_type": "code",
      "source": [
        "# Scatter plot with Seaborn\n",
        "plt.figure(figsize=(8, 6))\n",
        "sns.scatterplot(x='Page Views', y='Bounce Rate', data=df_v, color='blue')\n",
        "plt.title('Scatter Plot: Page Views vs. Bounce Rate')\n",
        "plt.xlabel('Page Views')\n",
        "plt.ylabel('Bounce Rate')\n",
        "plt.show()"
      ],
      "metadata": {
        "execution": {
          "iopub.status.busy": "2024-08-14T14:45:36.560541Z",
          "iopub.execute_input": "2024-08-14T14:45:36.561139Z",
          "iopub.status.idle": "2024-08-14T14:45:36.907246Z",
          "shell.execute_reply.started": "2024-08-14T14:45:36.561104Z",
          "shell.execute_reply": "2024-08-14T14:45:36.906154Z"
        },
        "trusted": true,
        "id": "8PK-aU_BzEIL"
      },
      "outputs": [],
      "execution_count": null
    },
    {
      "cell_type": "markdown",
      "source": [
        "**Spearman's rank correlation coefficient**"
      ],
      "metadata": {
        "id": "uVs8MWDVzEIL"
      }
    },
    {
      "cell_type": "code",
      "source": [
        "from scipy.stats import spearmanr\n",
        "\n",
        "# Calculate Spearman's rank correlation coefficient\n",
        "correlation, _ = spearmanr(BR_1, CR_1)\n",
        "print(f\"Spearman's rank correlation coefficient: {correlation}\")\n"
      ],
      "metadata": {
        "execution": {
          "iopub.status.busy": "2024-08-14T14:45:42.162639Z",
          "iopub.execute_input": "2024-08-14T14:45:42.163062Z",
          "iopub.status.idle": "2024-08-14T14:45:42.173587Z",
          "shell.execute_reply.started": "2024-08-14T14:45:42.163022Z",
          "shell.execute_reply": "2024-08-14T14:45:42.172256Z"
        },
        "trusted": true,
        "id": "OaEH8MO-zEIL"
      },
      "outputs": [],
      "execution_count": null
    },
    {
      "cell_type": "markdown",
      "source": [
        "**The First DataFrame**\n",
        "Near 0: A coefficient close to 0, like -0.0065, suggests that there is almost no correlation between the variables.\n",
        "\n",
        "Negative Value: A negative value indicates a slight tendency for one variable to decrease as the other increases, but the strength of this relationship is very weak given the coefficient’s proximity to 0."
      ],
      "metadata": {
        "id": "tvnD9uCMzEIL"
      }
    },
    {
      "cell_type": "code",
      "source": [
        "from scipy.stats import spearmanr\n",
        "\n",
        "# Calculate Spearman's rank correlation coefficient\n",
        "correlation, _ = spearmanr(BR_2, CR_2)\n",
        "print(f\"Spearman's rank correlation coefficient: {correlation}\")"
      ],
      "metadata": {
        "execution": {
          "iopub.status.busy": "2024-08-14T15:24:46.2321Z",
          "iopub.execute_input": "2024-08-14T15:24:46.232546Z",
          "iopub.status.idle": "2024-08-14T15:24:46.243469Z",
          "shell.execute_reply.started": "2024-08-14T15:24:46.232513Z",
          "shell.execute_reply": "2024-08-14T15:24:46.242217Z"
        },
        "trusted": true,
        "id": "PD1JAUpUzEIN"
      },
      "outputs": [],
      "execution_count": null
    },
    {
      "cell_type": "markdown",
      "source": [
        "**The Second DataFrame**\n",
        "The very small positive coefficient suggests that there is practically no meaningful relationship between the variables."
      ],
      "metadata": {
        "id": "c-oIg90-zEIN"
      }
    },
    {
      "cell_type": "markdown",
      "source": [
        "# Chi-2 Test"
      ],
      "metadata": {
        "id": "zgweyAyBzEIN"
      }
    },
    {
      "cell_type": "code",
      "source": [
        "from scipy.stats import chi2_contingency\n",
        "\n",
        "# Converting to a categorical variable\n",
        "sample_1['Conversion Level'] = pd.cut(sample_1['Conversion Rate (%)'], bins=[0, 2, 5, 10], labels=['Low', 'Medium', 'High'])\n",
        "\n",
        "# Creating a contingency table\n",
        "contingency_table = pd.crosstab(sample_1['Traffic Source'], sample_1['Conversion Level'])\n",
        "\n",
        "# Applying the Chi-square test\n",
        "chi2_stat, p_val, dof, expected = chi2_contingency(contingency_table)\n",
        "\n",
        "print(f\"Chi-square statistic: {chi2_stat}\")\n",
        "print(f\"p-value: {p_val}\")\n",
        "\n",
        "\n"
      ],
      "metadata": {
        "execution": {
          "iopub.status.busy": "2024-08-14T15:40:30.236899Z",
          "iopub.execute_input": "2024-08-14T15:40:30.237341Z",
          "iopub.status.idle": "2024-08-14T15:40:30.260563Z",
          "shell.execute_reply.started": "2024-08-14T15:40:30.237306Z",
          "shell.execute_reply": "2024-08-14T15:40:30.25922Z"
        },
        "trusted": true,
        "id": "tJw-tVbbzEIN"
      },
      "outputs": [],
      "execution_count": null
    },
    {
      "cell_type": "markdown",
      "source": [
        "There is no significant association between the traffic source and the conversion rate categories in your data. The differences observed are likely due to random chance."
      ],
      "metadata": {
        "id": "TBXLSNSWzEIN"
      }
    },
    {
      "cell_type": "markdown",
      "source": [
        "# Chi-Square Goodness of Fit Test"
      ],
      "metadata": {
        "id": "k-5qbys8zEIO"
      }
    },
    {
      "cell_type": "code",
      "source": [
        "\n",
        "from scipy.stats import  chisquare\n",
        "\n",
        "# Converting Conversion Rate (%) to a categorical variable\n",
        "sample_1['Conversion Level'] = pd.cut(sample_1['Conversion Rate (%)'], bins=[0, 2, 5, 10], labels=['Low', 'Medium', 'High'])\n",
        "\n",
        "# Creating a contingency table\n",
        "contingency_table = pd.crosstab(sample_1['Traffic Source'], sample_1['Conversion Level'])\n",
        "\n",
        "# Applying the Chi-square test of independence\n",
        "chi2_stat, p_val, dof, expected = chi2_contingency(contingency_table)\n",
        "print(f\"Chi-square statistic: {chi2_stat}\")\n",
        "print(f\"p-value: {p_val}\")\n",
        "\n",
        "# Sum the observed and expected frequencies for use in a goodness-of-fit test\n",
        "observed = contingency_table.values.flatten()\n",
        "expected = expected.flatten()\n",
        "\n",
        "# Check and print sums of observed and expected frequencies\n",
        "print(f\"Sum of observed frequencies: {observed.sum()}\")\n",
        "print(f\"Sum of expected frequencies: {expected.sum()}\")\n",
        "\n",
        "# Ensure that observed and expected are numeric and 1-dimensional\n",
        "print(f\"Observed data type: {observed.dtype}\")\n",
        "print(f\"Expected data type: {expected.dtype}\")\n",
        "print(f\"Observed shape: {observed.shape}\")\n",
        "print(f\"Expected shape: {expected.shape}\")\n",
        "\n",
        "# Check if the sums match and adjust if necessary\n",
        "if not np.isclose(observed.sum(), expected.sum()):\n",
        "    print(\"Sums do not match. Adjusting expected frequencies.\")\n",
        "    # Scale expected frequencies to match the sum of observed frequencies\n",
        "    expected = expected * observed.sum() / expected.sum()\n",
        "\n",
        "# Perform the Chi-square goodness-of-fit test\n",
        "chi2_stat, p_val = chisquare(observed, f_exp=expected)\n",
        "print(f\"Chi-square statistic (goodness of fit): {chi2_stat}\")\n",
        "print(f\"p-value (goodness of fit): {p_val}\")\n",
        "\n",
        "# Interpretation\n",
        "alpha = 0.05\n",
        "if p_val < alpha:\n",
        "    print(\"Reject the null hypothesis: observed frequencies do not match the expected distribution.\")\n",
        "else:\n",
        "    print(\"No grounds to reject the null hypothesis: observed frequencies match the expected distribution.\")"
      ],
      "metadata": {
        "execution": {
          "iopub.status.busy": "2024-08-14T16:16:39.976979Z",
          "iopub.execute_input": "2024-08-14T16:16:39.977423Z",
          "iopub.status.idle": "2024-08-14T16:16:40.010717Z",
          "shell.execute_reply.started": "2024-08-14T16:16:39.977386Z",
          "shell.execute_reply": "2024-08-14T16:16:40.009507Z"
        },
        "trusted": true,
        "id": "VXxUNyPczEIO"
      },
      "outputs": [],
      "execution_count": null
    }
  ]
}